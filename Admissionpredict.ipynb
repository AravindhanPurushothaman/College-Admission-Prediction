{
 "cells": [
  {
   "cell_type": "markdown",
   "id": "bb157c8a",
   "metadata": {},
   "source": [
    "# College Admission Prediction"
   ]
  },
  {
   "cell_type": "code",
   "execution_count": 55,
   "id": "76cf9ddc",
   "metadata": {},
   "outputs": [],
   "source": [
    "import pandas as pd\n",
    "import numpy as np\n",
    "import matplotlib.pyplot as plt"
   ]
  },
  {
   "cell_type": "code",
   "execution_count": 56,
   "id": "95c8ac99",
   "metadata": {},
   "outputs": [],
   "source": [
    "dataset = pd.read_csv(\"admission_predict.csv\")"
   ]
  },
  {
   "cell_type": "code",
   "execution_count": 57,
   "id": "9a3d5245",
   "metadata": {},
   "outputs": [
    {
     "data": {
      "text/html": [
       "<div>\n",
       "<style scoped>\n",
       "    .dataframe tbody tr th:only-of-type {\n",
       "        vertical-align: middle;\n",
       "    }\n",
       "\n",
       "    .dataframe tbody tr th {\n",
       "        vertical-align: top;\n",
       "    }\n",
       "\n",
       "    .dataframe thead th {\n",
       "        text-align: right;\n",
       "    }\n",
       "</style>\n",
       "<table border=\"1\" class=\"dataframe\">\n",
       "  <thead>\n",
       "    <tr style=\"text-align: right;\">\n",
       "      <th></th>\n",
       "      <th>Serial No.</th>\n",
       "      <th>GRE Score</th>\n",
       "      <th>TOEFL Score</th>\n",
       "      <th>University Rating</th>\n",
       "      <th>SOP</th>\n",
       "      <th>LOR</th>\n",
       "      <th>CGPA</th>\n",
       "      <th>Research</th>\n",
       "      <th>Chance of Admit</th>\n",
       "    </tr>\n",
       "  </thead>\n",
       "  <tbody>\n",
       "    <tr>\n",
       "      <th>0</th>\n",
       "      <td>1</td>\n",
       "      <td>337</td>\n",
       "      <td>118</td>\n",
       "      <td>4</td>\n",
       "      <td>4.5</td>\n",
       "      <td>4.5</td>\n",
       "      <td>9.65</td>\n",
       "      <td>1</td>\n",
       "      <td>0.92</td>\n",
       "    </tr>\n",
       "    <tr>\n",
       "      <th>1</th>\n",
       "      <td>2</td>\n",
       "      <td>324</td>\n",
       "      <td>107</td>\n",
       "      <td>4</td>\n",
       "      <td>4.0</td>\n",
       "      <td>4.5</td>\n",
       "      <td>8.87</td>\n",
       "      <td>1</td>\n",
       "      <td>0.76</td>\n",
       "    </tr>\n",
       "    <tr>\n",
       "      <th>2</th>\n",
       "      <td>3</td>\n",
       "      <td>316</td>\n",
       "      <td>104</td>\n",
       "      <td>3</td>\n",
       "      <td>3.0</td>\n",
       "      <td>3.5</td>\n",
       "      <td>8.00</td>\n",
       "      <td>1</td>\n",
       "      <td>0.72</td>\n",
       "    </tr>\n",
       "    <tr>\n",
       "      <th>3</th>\n",
       "      <td>4</td>\n",
       "      <td>322</td>\n",
       "      <td>110</td>\n",
       "      <td>3</td>\n",
       "      <td>3.5</td>\n",
       "      <td>2.5</td>\n",
       "      <td>8.67</td>\n",
       "      <td>1</td>\n",
       "      <td>0.80</td>\n",
       "    </tr>\n",
       "    <tr>\n",
       "      <th>4</th>\n",
       "      <td>5</td>\n",
       "      <td>314</td>\n",
       "      <td>103</td>\n",
       "      <td>2</td>\n",
       "      <td>2.0</td>\n",
       "      <td>3.0</td>\n",
       "      <td>8.21</td>\n",
       "      <td>0</td>\n",
       "      <td>0.65</td>\n",
       "    </tr>\n",
       "  </tbody>\n",
       "</table>\n",
       "</div>"
      ],
      "text/plain": [
       "   Serial No.  GRE Score  TOEFL Score  University Rating  SOP  LOR   CGPA  \\\n",
       "0           1        337          118                  4  4.5   4.5  9.65   \n",
       "1           2        324          107                  4  4.0   4.5  8.87   \n",
       "2           3        316          104                  3  3.0   3.5  8.00   \n",
       "3           4        322          110                  3  3.5   2.5  8.67   \n",
       "4           5        314          103                  2  2.0   3.0  8.21   \n",
       "\n",
       "   Research  Chance of Admit  \n",
       "0         1             0.92  \n",
       "1         1             0.76  \n",
       "2         1             0.72  \n",
       "3         1             0.80  \n",
       "4         0             0.65  "
      ]
     },
     "execution_count": 57,
     "metadata": {},
     "output_type": "execute_result"
    }
   ],
   "source": [
    "dataset.head()"
   ]
  },
  {
   "cell_type": "code",
   "execution_count": 58,
   "id": "db15dfc2",
   "metadata": {},
   "outputs": [
    {
     "data": {
      "text/html": [
       "<div>\n",
       "<style scoped>\n",
       "    .dataframe tbody tr th:only-of-type {\n",
       "        vertical-align: middle;\n",
       "    }\n",
       "\n",
       "    .dataframe tbody tr th {\n",
       "        vertical-align: top;\n",
       "    }\n",
       "\n",
       "    .dataframe thead th {\n",
       "        text-align: right;\n",
       "    }\n",
       "</style>\n",
       "<table border=\"1\" class=\"dataframe\">\n",
       "  <thead>\n",
       "    <tr style=\"text-align: right;\">\n",
       "      <th></th>\n",
       "      <th>GRE Score</th>\n",
       "      <th>TOEFL Score</th>\n",
       "      <th>University Rating</th>\n",
       "      <th>SOP</th>\n",
       "      <th>LOR</th>\n",
       "      <th>CGPA</th>\n",
       "      <th>Research</th>\n",
       "      <th>Chance of Admit</th>\n",
       "    </tr>\n",
       "  </thead>\n",
       "  <tbody>\n",
       "    <tr>\n",
       "      <th>0</th>\n",
       "      <td>337</td>\n",
       "      <td>118</td>\n",
       "      <td>4</td>\n",
       "      <td>4.5</td>\n",
       "      <td>4.5</td>\n",
       "      <td>9.65</td>\n",
       "      <td>1</td>\n",
       "      <td>0.92</td>\n",
       "    </tr>\n",
       "    <tr>\n",
       "      <th>1</th>\n",
       "      <td>324</td>\n",
       "      <td>107</td>\n",
       "      <td>4</td>\n",
       "      <td>4.0</td>\n",
       "      <td>4.5</td>\n",
       "      <td>8.87</td>\n",
       "      <td>1</td>\n",
       "      <td>0.76</td>\n",
       "    </tr>\n",
       "    <tr>\n",
       "      <th>2</th>\n",
       "      <td>316</td>\n",
       "      <td>104</td>\n",
       "      <td>3</td>\n",
       "      <td>3.0</td>\n",
       "      <td>3.5</td>\n",
       "      <td>8.00</td>\n",
       "      <td>1</td>\n",
       "      <td>0.72</td>\n",
       "    </tr>\n",
       "    <tr>\n",
       "      <th>3</th>\n",
       "      <td>322</td>\n",
       "      <td>110</td>\n",
       "      <td>3</td>\n",
       "      <td>3.5</td>\n",
       "      <td>2.5</td>\n",
       "      <td>8.67</td>\n",
       "      <td>1</td>\n",
       "      <td>0.80</td>\n",
       "    </tr>\n",
       "    <tr>\n",
       "      <th>4</th>\n",
       "      <td>314</td>\n",
       "      <td>103</td>\n",
       "      <td>2</td>\n",
       "      <td>2.0</td>\n",
       "      <td>3.0</td>\n",
       "      <td>8.21</td>\n",
       "      <td>0</td>\n",
       "      <td>0.65</td>\n",
       "    </tr>\n",
       "  </tbody>\n",
       "</table>\n",
       "</div>"
      ],
      "text/plain": [
       "   GRE Score  TOEFL Score  University Rating  SOP  LOR   CGPA  Research  \\\n",
       "0        337          118                  4  4.5   4.5  9.65         1   \n",
       "1        324          107                  4  4.0   4.5  8.87         1   \n",
       "2        316          104                  3  3.0   3.5  8.00         1   \n",
       "3        322          110                  3  3.5   2.5  8.67         1   \n",
       "4        314          103                  2  2.0   3.0  8.21         0   \n",
       "\n",
       "   Chance of Admit  \n",
       "0             0.92  \n",
       "1             0.76  \n",
       "2             0.72  \n",
       "3             0.80  \n",
       "4             0.65  "
      ]
     },
     "execution_count": 58,
     "metadata": {},
     "output_type": "execute_result"
    }
   ],
   "source": [
    "dataset.drop('Serial No.', axis=1, inplace=True)\n",
    "dataset.head()"
   ]
  },
  {
   "cell_type": "code",
   "execution_count": 59,
   "id": "6a296681",
   "metadata": {},
   "outputs": [
    {
     "data": {
      "text/html": [
       "<div>\n",
       "<style scoped>\n",
       "    .dataframe tbody tr th:only-of-type {\n",
       "        vertical-align: middle;\n",
       "    }\n",
       "\n",
       "    .dataframe tbody tr th {\n",
       "        vertical-align: top;\n",
       "    }\n",
       "\n",
       "    .dataframe thead th {\n",
       "        text-align: right;\n",
       "    }\n",
       "</style>\n",
       "<table border=\"1\" class=\"dataframe\">\n",
       "  <thead>\n",
       "    <tr style=\"text-align: right;\">\n",
       "      <th></th>\n",
       "      <th>GRE Score</th>\n",
       "      <th>TOEFL Score</th>\n",
       "      <th>University Rating</th>\n",
       "      <th>SOP</th>\n",
       "      <th>LOR</th>\n",
       "      <th>CGPA</th>\n",
       "      <th>Research</th>\n",
       "      <th>Chance of Admit</th>\n",
       "    </tr>\n",
       "  </thead>\n",
       "  <tbody>\n",
       "    <tr>\n",
       "      <th>count</th>\n",
       "      <td>500.000000</td>\n",
       "      <td>500.000000</td>\n",
       "      <td>500.000000</td>\n",
       "      <td>500.000000</td>\n",
       "      <td>500.00000</td>\n",
       "      <td>500.000000</td>\n",
       "      <td>500.000000</td>\n",
       "      <td>500.00000</td>\n",
       "    </tr>\n",
       "    <tr>\n",
       "      <th>mean</th>\n",
       "      <td>316.472000</td>\n",
       "      <td>107.192000</td>\n",
       "      <td>3.114000</td>\n",
       "      <td>3.374000</td>\n",
       "      <td>3.48400</td>\n",
       "      <td>8.576440</td>\n",
       "      <td>0.560000</td>\n",
       "      <td>0.72174</td>\n",
       "    </tr>\n",
       "    <tr>\n",
       "      <th>std</th>\n",
       "      <td>11.295148</td>\n",
       "      <td>6.081868</td>\n",
       "      <td>1.143512</td>\n",
       "      <td>0.991004</td>\n",
       "      <td>0.92545</td>\n",
       "      <td>0.604813</td>\n",
       "      <td>0.496884</td>\n",
       "      <td>0.14114</td>\n",
       "    </tr>\n",
       "    <tr>\n",
       "      <th>min</th>\n",
       "      <td>290.000000</td>\n",
       "      <td>92.000000</td>\n",
       "      <td>1.000000</td>\n",
       "      <td>1.000000</td>\n",
       "      <td>1.00000</td>\n",
       "      <td>6.800000</td>\n",
       "      <td>0.000000</td>\n",
       "      <td>0.34000</td>\n",
       "    </tr>\n",
       "    <tr>\n",
       "      <th>25%</th>\n",
       "      <td>308.000000</td>\n",
       "      <td>103.000000</td>\n",
       "      <td>2.000000</td>\n",
       "      <td>2.500000</td>\n",
       "      <td>3.00000</td>\n",
       "      <td>8.127500</td>\n",
       "      <td>0.000000</td>\n",
       "      <td>0.63000</td>\n",
       "    </tr>\n",
       "    <tr>\n",
       "      <th>50%</th>\n",
       "      <td>317.000000</td>\n",
       "      <td>107.000000</td>\n",
       "      <td>3.000000</td>\n",
       "      <td>3.500000</td>\n",
       "      <td>3.50000</td>\n",
       "      <td>8.560000</td>\n",
       "      <td>1.000000</td>\n",
       "      <td>0.72000</td>\n",
       "    </tr>\n",
       "    <tr>\n",
       "      <th>75%</th>\n",
       "      <td>325.000000</td>\n",
       "      <td>112.000000</td>\n",
       "      <td>4.000000</td>\n",
       "      <td>4.000000</td>\n",
       "      <td>4.00000</td>\n",
       "      <td>9.040000</td>\n",
       "      <td>1.000000</td>\n",
       "      <td>0.82000</td>\n",
       "    </tr>\n",
       "    <tr>\n",
       "      <th>max</th>\n",
       "      <td>340.000000</td>\n",
       "      <td>120.000000</td>\n",
       "      <td>5.000000</td>\n",
       "      <td>5.000000</td>\n",
       "      <td>5.00000</td>\n",
       "      <td>9.920000</td>\n",
       "      <td>1.000000</td>\n",
       "      <td>0.97000</td>\n",
       "    </tr>\n",
       "  </tbody>\n",
       "</table>\n",
       "</div>"
      ],
      "text/plain": [
       "        GRE Score  TOEFL Score  University Rating         SOP       LOR   \\\n",
       "count  500.000000   500.000000         500.000000  500.000000  500.00000   \n",
       "mean   316.472000   107.192000           3.114000    3.374000    3.48400   \n",
       "std     11.295148     6.081868           1.143512    0.991004    0.92545   \n",
       "min    290.000000    92.000000           1.000000    1.000000    1.00000   \n",
       "25%    308.000000   103.000000           2.000000    2.500000    3.00000   \n",
       "50%    317.000000   107.000000           3.000000    3.500000    3.50000   \n",
       "75%    325.000000   112.000000           4.000000    4.000000    4.00000   \n",
       "max    340.000000   120.000000           5.000000    5.000000    5.00000   \n",
       "\n",
       "             CGPA    Research  Chance of Admit  \n",
       "count  500.000000  500.000000        500.00000  \n",
       "mean     8.576440    0.560000          0.72174  \n",
       "std      0.604813    0.496884          0.14114  \n",
       "min      6.800000    0.000000          0.34000  \n",
       "25%      8.127500    0.000000          0.63000  \n",
       "50%      8.560000    1.000000          0.72000  \n",
       "75%      9.040000    1.000000          0.82000  \n",
       "max      9.920000    1.000000          0.97000  "
      ]
     },
     "execution_count": 59,
     "metadata": {},
     "output_type": "execute_result"
    }
   ],
   "source": [
    "dataset.describe()"
   ]
  },
  {
   "cell_type": "code",
   "execution_count": 60,
   "id": "25fb61f1",
   "metadata": {},
   "outputs": [],
   "source": [
    "university_grp = dataset.groupby(by = 'University Rating').mean()"
   ]
  },
  {
   "cell_type": "code",
   "execution_count": 61,
   "id": "ed37bc0c",
   "metadata": {},
   "outputs": [
    {
     "data": {
      "text/html": [
       "<div>\n",
       "<style scoped>\n",
       "    .dataframe tbody tr th:only-of-type {\n",
       "        vertical-align: middle;\n",
       "    }\n",
       "\n",
       "    .dataframe tbody tr th {\n",
       "        vertical-align: top;\n",
       "    }\n",
       "\n",
       "    .dataframe thead th {\n",
       "        text-align: right;\n",
       "    }\n",
       "</style>\n",
       "<table border=\"1\" class=\"dataframe\">\n",
       "  <thead>\n",
       "    <tr style=\"text-align: right;\">\n",
       "      <th></th>\n",
       "      <th>GRE Score</th>\n",
       "      <th>TOEFL Score</th>\n",
       "      <th>SOP</th>\n",
       "      <th>LOR</th>\n",
       "      <th>CGPA</th>\n",
       "      <th>Research</th>\n",
       "      <th>Chance of Admit</th>\n",
       "    </tr>\n",
       "    <tr>\n",
       "      <th>University Rating</th>\n",
       "      <th></th>\n",
       "      <th></th>\n",
       "      <th></th>\n",
       "      <th></th>\n",
       "      <th></th>\n",
       "      <th></th>\n",
       "      <th></th>\n",
       "    </tr>\n",
       "  </thead>\n",
       "  <tbody>\n",
       "    <tr>\n",
       "      <th>1</th>\n",
       "      <td>304.911765</td>\n",
       "      <td>100.205882</td>\n",
       "      <td>1.941176</td>\n",
       "      <td>2.426471</td>\n",
       "      <td>7.798529</td>\n",
       "      <td>0.294118</td>\n",
       "      <td>0.562059</td>\n",
       "    </tr>\n",
       "    <tr>\n",
       "      <th>2</th>\n",
       "      <td>309.134921</td>\n",
       "      <td>103.444444</td>\n",
       "      <td>2.682540</td>\n",
       "      <td>2.956349</td>\n",
       "      <td>8.177778</td>\n",
       "      <td>0.293651</td>\n",
       "      <td>0.626111</td>\n",
       "    </tr>\n",
       "    <tr>\n",
       "      <th>3</th>\n",
       "      <td>315.030864</td>\n",
       "      <td>106.314815</td>\n",
       "      <td>3.308642</td>\n",
       "      <td>3.401235</td>\n",
       "      <td>8.500123</td>\n",
       "      <td>0.537037</td>\n",
       "      <td>0.702901</td>\n",
       "    </tr>\n",
       "    <tr>\n",
       "      <th>4</th>\n",
       "      <td>323.304762</td>\n",
       "      <td>110.961905</td>\n",
       "      <td>4.000000</td>\n",
       "      <td>3.947619</td>\n",
       "      <td>8.936667</td>\n",
       "      <td>0.780952</td>\n",
       "      <td>0.801619</td>\n",
       "    </tr>\n",
       "    <tr>\n",
       "      <th>5</th>\n",
       "      <td>327.890411</td>\n",
       "      <td>113.438356</td>\n",
       "      <td>4.479452</td>\n",
       "      <td>4.404110</td>\n",
       "      <td>9.278082</td>\n",
       "      <td>0.876712</td>\n",
       "      <td>0.888082</td>\n",
       "    </tr>\n",
       "  </tbody>\n",
       "</table>\n",
       "</div>"
      ],
      "text/plain": [
       "                    GRE Score  TOEFL Score       SOP      LOR       CGPA  \\\n",
       "University Rating                                                          \n",
       "1                  304.911765   100.205882  1.941176  2.426471  7.798529   \n",
       "2                  309.134921   103.444444  2.682540  2.956349  8.177778   \n",
       "3                  315.030864   106.314815  3.308642  3.401235  8.500123   \n",
       "4                  323.304762   110.961905  4.000000  3.947619  8.936667   \n",
       "5                  327.890411   113.438356  4.479452  4.404110  9.278082   \n",
       "\n",
       "                   Research  Chance of Admit  \n",
       "University Rating                             \n",
       "1                  0.294118         0.562059  \n",
       "2                  0.293651         0.626111  \n",
       "3                  0.537037         0.702901  \n",
       "4                  0.780952         0.801619  \n",
       "5                  0.876712         0.888082  "
      ]
     },
     "execution_count": 61,
     "metadata": {},
     "output_type": "execute_result"
    }
   ],
   "source": [
    "university_grp"
   ]
  },
  {
   "cell_type": "code",
   "execution_count": 62,
   "id": "6ee40a45",
   "metadata": {},
   "outputs": [
    {
     "data": {
      "text/plain": [
       "Index(['GRE Score', 'TOEFL Score', 'University Rating', 'SOP', 'LOR ', 'CGPA',\n",
       "       'Research', 'Chance of Admit'],\n",
       "      dtype='object')"
      ]
     },
     "execution_count": 62,
     "metadata": {},
     "output_type": "execute_result"
    }
   ],
   "source": [
    "dataset.columns"
   ]
  },
  {
   "cell_type": "markdown",
   "id": "b79d9a90",
   "metadata": {},
   "source": [
    "# Training dataset"
   ]
  },
  {
   "cell_type": "code",
   "execution_count": 1,
   "id": "c4df20f9",
   "metadata": {},
   "outputs": [
    {
     "ename": "NameError",
     "evalue": "name 'dataset' is not defined",
     "output_type": "error",
     "traceback": [
      "\u001b[1;31m---------------------------------------------------------------------------\u001b[0m",
      "\u001b[1;31mNameError\u001b[0m                                 Traceback (most recent call last)",
      "Input \u001b[1;32mIn [1]\u001b[0m, in \u001b[0;36m<cell line: 1>\u001b[1;34m()\u001b[0m\n\u001b[1;32m----> 1\u001b[0m x \u001b[38;5;241m=\u001b[39m \u001b[43mdataset\u001b[49m\u001b[38;5;241m.\u001b[39mdrop(columns\u001b[38;5;241m=\u001b[39m[\u001b[38;5;124m\"\u001b[39m\u001b[38;5;124mChance of Admit\u001b[39m\u001b[38;5;124m\"\u001b[39m])\n",
      "\u001b[1;31mNameError\u001b[0m: name 'dataset' is not defined"
     ]
    }
   ],
   "source": [
    "x = dataset.drop(columns=[\"Chance of Admit\"])"
   ]
  },
  {
   "cell_type": "code",
   "execution_count": 64,
   "id": "07b7a182",
   "metadata": {},
   "outputs": [],
   "source": [
    "y = dataset[\"Chance of Admit\"]"
   ]
  },
  {
   "cell_type": "code",
   "execution_count": 65,
   "id": "29440b5e",
   "metadata": {},
   "outputs": [
    {
     "ename": "TypeError",
     "evalue": "'tuple' object is not callable",
     "output_type": "error",
     "traceback": [
      "\u001b[1;31m---------------------------------------------------------------------------\u001b[0m",
      "\u001b[1;31mTypeError\u001b[0m                                 Traceback (most recent call last)",
      "Input \u001b[1;32mIn [65]\u001b[0m, in \u001b[0;36m<cell line: 1>\u001b[1;34m()\u001b[0m\n\u001b[1;32m----> 1\u001b[0m \u001b[43mx\u001b[49m\u001b[38;5;241;43m.\u001b[39;49m\u001b[43mshape\u001b[49m\u001b[43m(\u001b[49m\u001b[43m)\u001b[49m\n",
      "\u001b[1;31mTypeError\u001b[0m: 'tuple' object is not callable"
     ]
    }
   ],
   "source": [
    "x.shape()"
   ]
  },
  {
   "cell_type": "code",
   "execution_count": 66,
   "id": "84f6092a",
   "metadata": {},
   "outputs": [
    {
     "data": {
      "text/plain": [
       "(500, 7)"
      ]
     },
     "execution_count": 66,
     "metadata": {},
     "output_type": "execute_result"
    }
   ],
   "source": [
    "x.shape"
   ]
  },
  {
   "cell_type": "code",
   "execution_count": 67,
   "id": "f8340dbe",
   "metadata": {},
   "outputs": [
    {
     "data": {
      "text/plain": [
       "(500,)"
      ]
     },
     "execution_count": 67,
     "metadata": {},
     "output_type": "execute_result"
    }
   ],
   "source": [
    "y.shape"
   ]
  },
  {
   "cell_type": "code",
   "execution_count": 68,
   "id": "6c5c8f90",
   "metadata": {},
   "outputs": [],
   "source": [
    "x = np.array(x)"
   ]
  },
  {
   "cell_type": "code",
   "execution_count": 69,
   "id": "a5ca3fde",
   "metadata": {},
   "outputs": [],
   "source": [
    "x = np.array(x)"
   ]
  },
  {
   "cell_type": "code",
   "execution_count": 70,
   "id": "2dd16f52",
   "metadata": {},
   "outputs": [],
   "source": [
    "y = np.array(y)"
   ]
  },
  {
   "cell_type": "code",
   "execution_count": 71,
   "id": "ef684210",
   "metadata": {},
   "outputs": [],
   "source": [
    "y = y.reshape(-1,1)"
   ]
  },
  {
   "cell_type": "code",
   "execution_count": 72,
   "id": "12d7b8ed",
   "metadata": {},
   "outputs": [
    {
     "data": {
      "text/plain": [
       "(500, 1)"
      ]
     },
     "execution_count": 72,
     "metadata": {},
     "output_type": "execute_result"
    }
   ],
   "source": [
    "y.shape"
   ]
  },
  {
   "cell_type": "code",
   "execution_count": 73,
   "id": "ca886d86",
   "metadata": {},
   "outputs": [],
   "source": [
    "from sklearn.preprocessing import StandardScaler, MinMaxScaler"
   ]
  },
  {
   "cell_type": "code",
   "execution_count": 74,
   "id": "9e70b096",
   "metadata": {},
   "outputs": [],
   "source": [
    "scaling_x = StandardScaler()"
   ]
  },
  {
   "cell_type": "code",
   "execution_count": 75,
   "id": "9e5a6240",
   "metadata": {},
   "outputs": [],
   "source": [
    "x = scaling_x.fit_transform(x)"
   ]
  },
  {
   "cell_type": "code",
   "execution_count": 76,
   "id": "788b3252",
   "metadata": {},
   "outputs": [],
   "source": [
    "scaling_y = StandardScaler()\n",
    "y = scaling_y.fit_transform(y)"
   ]
  },
  {
   "cell_type": "code",
   "execution_count": 77,
   "id": "a5be90ca",
   "metadata": {},
   "outputs": [],
   "source": [
    "from sklearn.model_selection import train_test_split\n",
    "x_train, x_test, y_train, y_test = train_test_split(x,y,test_size = 0.15)"
   ]
  },
  {
   "cell_type": "code",
   "execution_count": 78,
   "id": "d9254025",
   "metadata": {},
   "outputs": [],
   "source": [
    "# Training"
   ]
  },
  {
   "cell_type": "code",
   "execution_count": 79,
   "id": "6a100d02",
   "metadata": {},
   "outputs": [],
   "source": [
    "from sklearn.linear_model import LinearRegression\n",
    "from sklearn.metrics import mean_squared_error, accuracy_score"
   ]
  },
  {
   "cell_type": "code",
   "execution_count": 80,
   "id": "ba885684",
   "metadata": {},
   "outputs": [
    {
     "data": {
      "text/plain": [
       "LinearRegression(copy_X=True, fit_intercept=True, n_jobs=None, normalize=False)"
      ]
     },
     "execution_count": 80,
     "metadata": {},
     "output_type": "execute_result"
    }
   ],
   "source": [
    "reg = LinearRegression()\n",
    "reg.fit(x_train,y_train)"
   ]
  },
  {
   "cell_type": "code",
   "execution_count": 81,
   "id": "e0975f1e",
   "metadata": {},
   "outputs": [
    {
     "data": {
      "text/plain": [
       "0.8180173406819203"
      ]
     },
     "execution_count": 81,
     "metadata": {},
     "output_type": "execute_result"
    }
   ],
   "source": [
    "accuracy = reg.score(x_test,y_test)\n",
    "accuracy"
   ]
  },
  {
   "cell_type": "code",
   "execution_count": 82,
   "id": "c00957f6",
   "metadata": {},
   "outputs": [],
   "source": [
    "import tensorflow as tf\n",
    "from tensorflow import keras\n",
    "from tensorflow.keras.layers import Dense, Activation, Dropout\n",
    "from tensorflow.keras.optimizers import Adam"
   ]
  },
  {
   "cell_type": "code",
   "execution_count": 83,
   "id": "0dd8d4a0",
   "metadata": {},
   "outputs": [
    {
     "name": "stdout",
     "output_type": "stream",
     "text": [
      "Model: \"sequential_1\"\n",
      "_________________________________________________________________\n",
      "Layer (type)                 Output Shape              Param #   \n",
      "=================================================================\n",
      "dense_5 (Dense)              (None, 50)                400       \n",
      "_________________________________________________________________\n",
      "activation_4 (Activation)    (None, 50)                0         \n",
      "_________________________________________________________________\n",
      "dense_6 (Dense)              (None, 150)               7650      \n",
      "_________________________________________________________________\n",
      "activation_5 (Activation)    (None, 150)               0         \n",
      "_________________________________________________________________\n",
      "dropout_2 (Dropout)          (None, 150)               0         \n",
      "_________________________________________________________________\n",
      "dense_7 (Dense)              (None, 150)               22650     \n",
      "_________________________________________________________________\n",
      "activation_6 (Activation)    (None, 150)               0         \n",
      "_________________________________________________________________\n",
      "dropout_3 (Dropout)          (None, 150)               0         \n",
      "_________________________________________________________________\n",
      "dense_8 (Dense)              (None, 50)                7550      \n",
      "_________________________________________________________________\n",
      "activation_7 (Activation)    (None, 50)                0         \n",
      "_________________________________________________________________\n",
      "dense_9 (Dense)              (None, 1)                 51        \n",
      "=================================================================\n",
      "Total params: 38,301\n",
      "Trainable params: 38,301\n",
      "Non-trainable params: 0\n",
      "_________________________________________________________________\n"
     ]
    }
   ],
   "source": [
    "ANN = keras.Sequential()\n",
    "ANN.add(Dense(50, input_dim = 7))\n",
    "ANN.add(Activation('relu'))\n",
    "ANN.add(Dense(150))\n",
    "ANN.add(Activation('relu'))\n",
    "ANN.add(Dropout(0.5))\n",
    "ANN.add(Dense(150))\n",
    "ANN.add(Activation('relu'))\n",
    "ANN.add(Dropout(0.5))\n",
    "ANN.add(Dense(50))\n",
    "ANN.add(Activation('linear'))\n",
    "ANN.add(Dense(1))\n",
    "ANN.compile(loss = 'mse', optimizer = 'adam')\n",
    "ANN.summary()"
   ]
  },
  {
   "cell_type": "code",
   "execution_count": 84,
   "id": "881ad2ef",
   "metadata": {},
   "outputs": [],
   "source": [
    "ANN.compile(optimizer = 'Adam', loss = 'mean_squared_error')"
   ]
  },
  {
   "cell_type": "code",
   "execution_count": 85,
   "id": "0f416e28",
   "metadata": {},
   "outputs": [
    {
     "name": "stdout",
     "output_type": "stream",
     "text": [
      "Epoch 1/100\n",
      "17/17 [==============================] - 0s 23ms/step - loss: 0.6385 - val_loss: 0.1931\n",
      "Epoch 2/100\n",
      "17/17 [==============================] - 0s 10ms/step - loss: 0.4281 - val_loss: 0.1984\n",
      "Epoch 3/100\n",
      "17/17 [==============================] - 0s 11ms/step - loss: 0.3284 - val_loss: 0.1665\n",
      "Epoch 4/100\n",
      "17/17 [==============================] - 0s 11ms/step - loss: 0.3479 - val_loss: 0.1596\n",
      "Epoch 5/100\n",
      "17/17 [==============================] - 0s 9ms/step - loss: 0.3225 - val_loss: 0.1672\n",
      "Epoch 6/100\n",
      "17/17 [==============================] - 0s 8ms/step - loss: 0.2789 - val_loss: 0.1492\n",
      "Epoch 7/100\n",
      "17/17 [==============================] - 0s 7ms/step - loss: 0.2277 - val_loss: 0.1536\n",
      "Epoch 8/100\n",
      "17/17 [==============================] - 0s 7ms/step - loss: 0.2501 - val_loss: 0.1508\n",
      "Epoch 9/100\n",
      "17/17 [==============================] - 0s 10ms/step - loss: 0.2672 - val_loss: 0.1595\n",
      "Epoch 10/100\n",
      "17/17 [==============================] - 0s 7ms/step - loss: 0.2759 - val_loss: 0.1605\n",
      "Epoch 11/100\n",
      "17/17 [==============================] - ETA: 0s - loss: 0.226 - 0s 7ms/step - loss: 0.2413 - val_loss: 0.1468\n",
      "Epoch 12/100\n",
      "17/17 [==============================] - 0s 6ms/step - loss: 0.2334 - val_loss: 0.1593\n",
      "Epoch 13/100\n",
      "17/17 [==============================] - 0s 11ms/step - loss: 0.2437 - val_loss: 0.1498\n",
      "Epoch 14/100\n",
      "17/17 [==============================] - 0s 11ms/step - loss: 0.2360 - val_loss: 0.1531\n",
      "Epoch 15/100\n",
      "17/17 [==============================] - 0s 11ms/step - loss: 0.2374 - val_loss: 0.1652\n",
      "Epoch 16/100\n",
      "17/17 [==============================] - 0s 8ms/step - loss: 0.2200 - val_loss: 0.1643\n",
      "Epoch 17/100\n",
      "17/17 [==============================] - 0s 8ms/step - loss: 0.2127 - val_loss: 0.1587\n",
      "Epoch 18/100\n",
      "17/17 [==============================] - 0s 7ms/step - loss: 0.2102 - val_loss: 0.1466\n",
      "Epoch 19/100\n",
      "17/17 [==============================] - 0s 7ms/step - loss: 0.2005 - val_loss: 0.1535\n",
      "Epoch 20/100\n",
      "17/17 [==============================] - 0s 7ms/step - loss: 0.2349 - val_loss: 0.1548\n",
      "Epoch 21/100\n",
      "17/17 [==============================] - 0s 7ms/step - loss: 0.1962 - val_loss: 0.1579\n",
      "Epoch 22/100\n",
      "17/17 [==============================] - 0s 11ms/step - loss: 0.2206 - val_loss: 0.1611\n",
      "Epoch 23/100\n",
      "17/17 [==============================] - 0s 12ms/step - loss: 0.2279 - val_loss: 0.1536\n",
      "Epoch 24/100\n",
      "17/17 [==============================] - 0s 16ms/step - loss: 0.2104 - val_loss: 0.1513\n",
      "Epoch 25/100\n",
      "17/17 [==============================] - 0s 9ms/step - loss: 0.2296 - val_loss: 0.1519\n",
      "Epoch 26/100\n",
      "17/17 [==============================] - 0s 7ms/step - loss: 0.2044 - val_loss: 0.1516\n",
      "Epoch 27/100\n",
      "17/17 [==============================] - 0s 7ms/step - loss: 0.2037 - val_loss: 0.1655\n",
      "Epoch 28/100\n",
      "17/17 [==============================] - 0s 8ms/step - loss: 0.1937 - val_loss: 0.1568\n",
      "Epoch 29/100\n",
      "17/17 [==============================] - 0s 7ms/step - loss: 0.1978 - val_loss: 0.1854\n",
      "Epoch 30/100\n",
      "17/17 [==============================] - 0s 7ms/step - loss: 0.2267 - val_loss: 0.1636\n",
      "Epoch 31/100\n",
      "17/17 [==============================] - 0s 13ms/step - loss: 0.1962 - val_loss: 0.1488\n",
      "Epoch 32/100\n",
      "17/17 [==============================] - 0s 7ms/step - loss: 0.2046 - val_loss: 0.1534\n",
      "Epoch 33/100\n",
      "17/17 [==============================] - 0s 11ms/step - loss: 0.2154 - val_loss: 0.1622\n",
      "Epoch 34/100\n",
      "17/17 [==============================] - 0s 15ms/step - loss: 0.1893 - val_loss: 0.1473\n",
      "Epoch 35/100\n",
      "17/17 [==============================] - 0s 10ms/step - loss: 0.1787 - val_loss: 0.1556\n",
      "Epoch 36/100\n",
      "17/17 [==============================] - 0s 6ms/step - loss: 0.1700 - val_loss: 0.1531\n",
      "Epoch 37/100\n",
      "17/17 [==============================] - 0s 8ms/step - loss: 0.2013 - val_loss: 0.1527\n",
      "Epoch 38/100\n",
      "17/17 [==============================] - 0s 7ms/step - loss: 0.2118 - val_loss: 0.1568\n",
      "Epoch 39/100\n",
      "17/17 [==============================] - 0s 6ms/step - loss: 0.1810 - val_loss: 0.1733\n",
      "Epoch 40/100\n",
      "17/17 [==============================] - 0s 13ms/step - loss: 0.1835 - val_loss: 0.1590\n",
      "Epoch 41/100\n",
      "17/17 [==============================] - 0s 9ms/step - loss: 0.1987 - val_loss: 0.1461\n",
      "Epoch 42/100\n",
      "17/17 [==============================] - 0s 14ms/step - loss: 0.1830 - val_loss: 0.1559\n",
      "Epoch 43/100\n",
      "17/17 [==============================] - 0s 23ms/step - loss: 0.1944 - val_loss: 0.1485\n",
      "Epoch 44/100\n",
      "17/17 [==============================] - 0s 23ms/step - loss: 0.1900 - val_loss: 0.1467\n",
      "Epoch 45/100\n",
      "17/17 [==============================] - 0s 12ms/step - loss: 0.1852 - val_loss: 0.1467\n",
      "Epoch 46/100\n",
      "17/17 [==============================] - 0s 7ms/step - loss: 0.1720 - val_loss: 0.1445\n",
      "Epoch 47/100\n",
      "17/17 [==============================] - 0s 13ms/step - loss: 0.1796 - val_loss: 0.1482\n",
      "Epoch 48/100\n",
      "17/17 [==============================] - 0s 11ms/step - loss: 0.1811 - val_loss: 0.1636\n",
      "Epoch 49/100\n",
      "17/17 [==============================] - ETA: 0s - loss: 0.159 - 0s 11ms/step - loss: 0.1634 - val_loss: 0.1424\n",
      "Epoch 50/100\n",
      "17/17 [==============================] - 0s 26ms/step - loss: 0.1567 - val_loss: 0.1459\n",
      "Epoch 51/100\n",
      "17/17 [==============================] - 0s 15ms/step - loss: 0.1821 - val_loss: 0.1585\n",
      "Epoch 52/100\n",
      "17/17 [==============================] - 0s 10ms/step - loss: 0.1655 - val_loss: 0.1447\n",
      "Epoch 53/100\n",
      "17/17 [==============================] - 0s 12ms/step - loss: 0.1658 - val_loss: 0.1431\n",
      "Epoch 54/100\n",
      "17/17 [==============================] - 0s 6ms/step - loss: 0.1859 - val_loss: 0.1452\n",
      "Epoch 55/100\n",
      "17/17 [==============================] - 0s 6ms/step - loss: 0.1686 - val_loss: 0.1521\n",
      "Epoch 56/100\n",
      "17/17 [==============================] - 0s 5ms/step - loss: 0.1551 - val_loss: 0.1639\n",
      "Epoch 57/100\n",
      "17/17 [==============================] - 0s 6ms/step - loss: 0.1724 - val_loss: 0.1545\n",
      "Epoch 58/100\n",
      "17/17 [==============================] - 0s 5ms/step - loss: 0.1546 - val_loss: 0.1634\n",
      "Epoch 59/100\n",
      "17/17 [==============================] - 0s 9ms/step - loss: 0.1647 - val_loss: 0.1720\n",
      "Epoch 60/100\n",
      "17/17 [==============================] - 0s 6ms/step - loss: 0.1729 - val_loss: 0.1525\n",
      "Epoch 61/100\n",
      "17/17 [==============================] - 0s 6ms/step - loss: 0.1718 - val_loss: 0.1597\n",
      "Epoch 62/100\n",
      "17/17 [==============================] - 0s 13ms/step - loss: 0.1511 - val_loss: 0.1599\n",
      "Epoch 63/100\n",
      "17/17 [==============================] - 0s 9ms/step - loss: 0.1541 - val_loss: 0.1546\n",
      "Epoch 64/100\n",
      "17/17 [==============================] - 0s 8ms/step - loss: 0.1488 - val_loss: 0.1542\n",
      "Epoch 65/100\n",
      "17/17 [==============================] - 0s 21ms/step - loss: 0.1668 - val_loss: 0.1514\n",
      "Epoch 66/100\n",
      "17/17 [==============================] - 0s 8ms/step - loss: 0.1540 - val_loss: 0.1730\n",
      "Epoch 67/100\n",
      "17/17 [==============================] - 0s 9ms/step - loss: 0.1609 - val_loss: 0.1531\n",
      "Epoch 68/100\n",
      "17/17 [==============================] - 0s 14ms/step - loss: 0.1449 - val_loss: 0.1588\n",
      "Epoch 69/100\n",
      "17/17 [==============================] - 0s 10ms/step - loss: 0.1523 - val_loss: 0.1538\n",
      "Epoch 70/100\n",
      "17/17 [==============================] - 1s 30ms/step - loss: 0.1521 - val_loss: 0.1494\n",
      "Epoch 71/100\n",
      "17/17 [==============================] - 0s 25ms/step - loss: 0.1436 - val_loss: 0.1576\n",
      "Epoch 72/100\n",
      "17/17 [==============================] - 0s 11ms/step - loss: 0.1598 - val_loss: 0.1690\n",
      "Epoch 73/100\n",
      "17/17 [==============================] - 0s 10ms/step - loss: 0.1424 - val_loss: 0.1739\n",
      "Epoch 74/100\n",
      "17/17 [==============================] - 0s 14ms/step - loss: 0.1519 - val_loss: 0.1725\n",
      "Epoch 75/100\n",
      "17/17 [==============================] - 0s 10ms/step - loss: 0.1378 - val_loss: 0.1843\n",
      "Epoch 76/100\n",
      "17/17 [==============================] - 0s 11ms/step - loss: 0.1366 - val_loss: 0.1697\n",
      "Epoch 77/100\n",
      "17/17 [==============================] - 0s 16ms/step - loss: 0.1375 - val_loss: 0.1763\n",
      "Epoch 78/100\n",
      "17/17 [==============================] - 0s 24ms/step - loss: 0.1410 - val_loss: 0.1680\n",
      "Epoch 79/100\n",
      "17/17 [==============================] - 0s 20ms/step - loss: 0.1378 - val_loss: 0.1862\n",
      "Epoch 80/100\n",
      "17/17 [==============================] - 0s 11ms/step - loss: 0.1357 - val_loss: 0.1871\n",
      "Epoch 81/100\n",
      "17/17 [==============================] - 0s 12ms/step - loss: 0.1469 - val_loss: 0.1939\n",
      "Epoch 82/100\n"
     ]
    },
    {
     "name": "stdout",
     "output_type": "stream",
     "text": [
      "17/17 [==============================] - 0s 11ms/step - loss: 0.1388 - val_loss: 0.1680\n",
      "Epoch 83/100\n",
      "17/17 [==============================] - 0s 11ms/step - loss: 0.1524 - val_loss: 0.1725\n",
      "Epoch 84/100\n",
      "17/17 [==============================] - 0s 12ms/step - loss: 0.1342 - val_loss: 0.1746\n",
      "Epoch 85/100\n",
      "17/17 [==============================] - 0s 8ms/step - loss: 0.1333 - val_loss: 0.1552\n",
      "Epoch 86/100\n",
      "17/17 [==============================] - 0s 7ms/step - loss: 0.1301 - val_loss: 0.1696\n",
      "Epoch 87/100\n",
      "17/17 [==============================] - 0s 13ms/step - loss: 0.1498 - val_loss: 0.1694\n",
      "Epoch 88/100\n",
      "17/17 [==============================] - 0s 9ms/step - loss: 0.1305 - val_loss: 0.1836\n",
      "Epoch 89/100\n",
      "17/17 [==============================] - 0s 7ms/step - loss: 0.1332 - val_loss: 0.1662\n",
      "Epoch 90/100\n",
      "17/17 [==============================] - 0s 16ms/step - loss: 0.1268 - val_loss: 0.1640\n",
      "Epoch 91/100\n",
      "17/17 [==============================] - 0s 12ms/step - loss: 0.1309 - val_loss: 0.1734\n",
      "Epoch 92/100\n",
      "17/17 [==============================] - 0s 9ms/step - loss: 0.1261 - val_loss: 0.1810\n",
      "Epoch 93/100\n",
      "17/17 [==============================] - 1s 34ms/step - loss: 0.1308 - val_loss: 0.1629\n",
      "Epoch 94/100\n",
      "17/17 [==============================] - 0s 24ms/step - loss: 0.1349 - val_loss: 0.1839\n",
      "Epoch 95/100\n",
      "17/17 [==============================] - 0s 17ms/step - loss: 0.1224 - val_loss: 0.1720\n",
      "Epoch 96/100\n",
      "17/17 [==============================] - 0s 13ms/step - loss: 0.1302 - val_loss: 0.1885\n",
      "Epoch 97/100\n",
      "17/17 [==============================] - 0s 26ms/step - loss: 0.1083 - val_loss: 0.1933\n",
      "Epoch 98/100\n",
      "17/17 [==============================] - 0s 14ms/step - loss: 0.1133 - val_loss: 0.1735\n",
      "Epoch 99/100\n",
      "17/17 [==============================] - 0s 9ms/step - loss: 0.1327 - val_loss: 0.1671\n",
      "Epoch 100/100\n",
      "17/17 [==============================] - 0s 8ms/step - loss: 0.1220 - val_loss: 0.1901\n"
     ]
    }
   ],
   "source": [
    "epochs_hist = ANN.fit(x_train, y_train, epochs = 100, batch_size = 20, validation_split = 0.2)"
   ]
  },
  {
   "cell_type": "code",
   "execution_count": 86,
   "id": "e5261d2b",
   "metadata": {},
   "outputs": [
    {
     "name": "stdout",
     "output_type": "stream",
     "text": [
      "3/3 [==============================] - 0s 3ms/step - loss: 0.2199\n"
     ]
    }
   ],
   "source": [
    "result = ANN. evaluate(x_test, y_test)"
   ]
  },
  {
   "cell_type": "code",
   "execution_count": 87,
   "id": "c2004654",
   "metadata": {},
   "outputs": [
    {
     "name": "stdout",
     "output_type": "stream",
     "text": [
      "Accuracy : 0.7800999730825424\n"
     ]
    }
   ],
   "source": [
    "accuracy_ANN = 1 - result\n",
    "print(\"Accuracy : {}\".format(accuracy_ANN))"
   ]
  },
  {
   "cell_type": "code",
   "execution_count": 88,
   "id": "a41bf31f",
   "metadata": {},
   "outputs": [
    {
     "data": {
      "text/plain": [
       "dict_keys(['loss', 'val_loss'])"
      ]
     },
     "execution_count": 88,
     "metadata": {},
     "output_type": "execute_result"
    }
   ],
   "source": [
    "epochs_hist.history.keys()"
   ]
  },
  {
   "cell_type": "code",
   "execution_count": 89,
   "id": "0248c437",
   "metadata": {},
   "outputs": [
    {
     "data": {
      "text/plain": [
       "<matplotlib.legend.Legend at 0x16e1c0d1c70>"
      ]
     },
     "execution_count": 89,
     "metadata": {},
     "output_type": "execute_result"
    },
    {
     "data": {
      "image/png": "[encoded data removed]",
      "text/plain": [
       "<Figure size 432x288 with 1 Axes>"
      ]
     },
     "metadata": {
      "needs_background": "light"
     },
     "output_type": "display_data"
    }
   ],
   "source": [
    "plt.plot(epochs_hist.history['loss'])\n",
    "plt.title('Model Loss Progress During Training')\n",
    "plt.xlabel('Epoch')\n",
    "plt.ylabel('Training Loss')\n",
    "plt.legend(['Training Loss'])"
   ]
  },
  {
   "cell_type": "code",
   "execution_count": 90,
   "id": "293839c8",
   "metadata": {},
   "outputs": [],
   "source": [
    "# Evaluate decision tree"
   ]
  },
  {
   "cell_type": "code",
   "execution_count": 91,
   "id": "863a94dd",
   "metadata": {},
   "outputs": [
    {
     "data": {
      "text/plain": [
       "DecisionTreeRegressor(ccp_alpha=0.0, criterion='mse', max_depth=None,\n",
       "                      max_features=None, max_leaf_nodes=None,\n",
       "                      min_impurity_decrease=0.0, min_impurity_split=None,\n",
       "                      min_samples_leaf=1, min_samples_split=2,\n",
       "                      min_weight_fraction_leaf=0.0, presort='deprecated',\n",
       "                      random_state=None, splitter='best')"
      ]
     },
     "execution_count": 91,
     "metadata": {},
     "output_type": "execute_result"
    }
   ],
   "source": [
    "from sklearn.tree import DecisionTreeRegressor\n",
    "decisionTree_model = DecisionTreeRegressor()\n",
    "decisionTree_model.fit(x_train, y_train)"
   ]
  },
  {
   "cell_type": "code",
   "execution_count": 92,
   "id": "07ee92d4",
   "metadata": {},
   "outputs": [
    {
     "data": {
      "text/plain": [
       "0.6999469310008246"
      ]
     },
     "execution_count": 92,
     "metadata": {},
     "output_type": "execute_result"
    }
   ],
   "source": [
    "accuracy_decisionTree = decisionTree_model.score(x_test, y_test)\n",
    "accuracy_decisionTree"
   ]
  },
  {
   "cell_type": "code",
   "execution_count": 93,
   "id": "cbf51dce",
   "metadata": {},
   "outputs": [
    {
     "name": "stderr",
     "output_type": "stream",
     "text": [
      "C:\\Users\\acer\\AppData\\Local\\Temp\\ipykernel_9540\\289138071.py:3: DataConversionWarning: A column-vector y was passed when a 1d array was expected. Please change the shape of y to (n_samples,), for example using ravel().\n",
      "  randomForest_model.fit(x_train, y_train)\n"
     ]
    },
    {
     "data": {
      "text/plain": [
       "RandomForestRegressor(bootstrap=True, ccp_alpha=0.0, criterion='mse',\n",
       "                      max_depth=10, max_features='auto', max_leaf_nodes=None,\n",
       "                      max_samples=None, min_impurity_decrease=0.0,\n",
       "                      min_impurity_split=None, min_samples_leaf=1,\n",
       "                      min_samples_split=2, min_weight_fraction_leaf=0.0,\n",
       "                      n_estimators=100, n_jobs=None, oob_score=False,\n",
       "                      random_state=None, verbose=0, warm_start=False)"
      ]
     },
     "execution_count": 93,
     "metadata": {},
     "output_type": "execute_result"
    }
   ],
   "source": [
    "from sklearn.ensemble import RandomForestRegressor\n",
    "randomForest_model = RandomForestRegressor(n_estimators=100, max_depth=10)\n",
    "randomForest_model.fit(x_train, y_train)"
   ]
  },
  {
   "cell_type": "code",
   "execution_count": 94,
   "id": "50c94789",
   "metadata": {},
   "outputs": [
    {
     "data": {
      "text/plain": [
       "0.7962621634513815"
      ]
     },
     "execution_count": 94,
     "metadata": {},
     "output_type": "execute_result"
    }
   ],
   "source": [
    "accuracy_randomforest = randomForest_model.score(x_test, y_test)\n",
    "accuracy_randomforest"
   ]
  },
  {
   "cell_type": "code",
   "execution_count": 95,
   "id": "867a8057",
   "metadata": {},
   "outputs": [
    {
     "data": {
      "text/plain": [
       "[<matplotlib.lines.Line2D at 0x16e1c132850>]"
      ]
     },
     "execution_count": 95,
     "metadata": {},
     "output_type": "execute_result"
    },
    {
     "data": {
      "image/png": "[encoded data removed]",
      "text/plain": [
       "<Figure size 432x288 with 1 Axes>"
      ]
     },
     "metadata": {
      "needs_background": "light"
     },
     "output_type": "display_data"
    }
   ],
   "source": [
    "y_pred = reg.predict(x_test)\n",
    "plt.plot(y_test, y_pred, '^', color='r')"
   ]
  },
  {
   "cell_type": "code",
   "execution_count": 96,
   "id": "f9c17ad3",
   "metadata": {},
   "outputs": [],
   "source": [
    "y_predict_orig = scaling_y.inverse_transform(y_pred)\n",
    "y_test_orig = scaling_y.inverse_transform(y_test)"
   ]
  },
  {
   "cell_type": "code",
   "execution_count": 97,
   "id": "967745d2",
   "metadata": {},
   "outputs": [
    {
     "data": {
      "text/plain": [
       "[<matplotlib.lines.Line2D at 0x16e1c187910>]"
      ]
     },
     "execution_count": 97,
     "metadata": {},
     "output_type": "execute_result"
    },
    {
     "data": {
      "image/png": "[encoded data removed]",
      "text/plain": [
       "<Figure size 432x288 with 1 Axes>"
      ]
     },
     "metadata": {
      "needs_background": "light"
     },
     "output_type": "display_data"
    }
   ],
   "source": [
    "plt.plot(y_test_orig, y_predict_orig, '^', color='r')"
   ]
  },
  {
   "cell_type": "code",
   "execution_count": 98,
   "id": "88642d0e",
   "metadata": {},
   "outputs": [
    {
     "data": {
      "text/plain": [
       "75"
      ]
     },
     "execution_count": 98,
     "metadata": {},
     "output_type": "execute_result"
    }
   ],
   "source": [
    "k = x_test.shape[1]\n",
    "n = len(x_test)\n",
    "n"
   ]
  },
  {
   "cell_type": "code",
   "execution_count": 99,
   "id": "58ac51ca",
   "metadata": {},
   "outputs": [
    {
     "name": "stdout",
     "output_type": "stream",
     "text": [
      "RMSE = 0.064 \n",
      "MSE = 0.004096715980633969 \n",
      "MAE = 0.045942157612687204 \n",
      "R2 = 0.8180173406819202 \n",
      "Adjusted R2 = 0.7990042270218223\n"
     ]
    }
   ],
   "source": [
    "from sklearn.metrics import r2_score, mean_squared_error, mean_absolute_error\n",
    "from math import sqrt\n",
    "\n",
    "RMSE = float(format(np.sqrt(mean_squared_error(y_test_orig, y_predict_orig)),'.3f'))\n",
    "MSE = mean_squared_error(y_test_orig, y_predict_orig)\n",
    "MAE = mean_absolute_error(y_test_orig, y_predict_orig)\n",
    "r2 = r2_score(y_test_orig, y_predict_orig)\n",
    "adj_r2 = 1-(1-r2)*(n-1)/(n-k-1)\n",
    "\n",
    "print('RMSE =',RMSE, '\\nMSE =',MSE, '\\nMAE =',MAE, '\\nR2 =', r2, '\\nAdjusted R2 =', adj_r2) \n"
   ]
  },
  {
   "cell_type": "code",
   "execution_count": 100,
   "id": "891641e7",
   "metadata": {},
   "outputs": [],
   "source": [
    "import pickle"
   ]
  },
  {
   "cell_type": "code",
   "execution_count": 101,
   "id": "68268f2d",
   "metadata": {},
   "outputs": [
    {
     "name": "stdout",
     "output_type": "stream",
     "text": [
      "(7,)\n",
      "(1, 7)\n"
     ]
    }
   ],
   "source": [
    "s = np.array([320, 110, 1, 5, 5, 9, 1])\n",
    "print(s.shape)\n",
    "s = s.reshape(1,-1)\n",
    "print(s.shape)\n"
   ]
  },
  {
   "cell_type": "code",
   "execution_count": 102,
   "id": "cb72a09c",
   "metadata": {},
   "outputs": [
    {
     "name": "stdout",
     "output_type": "stream",
     "text": [
      "[[72.75983727]]\n"
     ]
    }
   ],
   "source": [
    "pickle.dump(reg, open('linear_regression_model_sc.pkl', 'wb'))\n",
    "model = pickle.load(open('linear_regression_model_sc.pkl', 'rb'))\n",
    "print(model.predict(s))\n"
   ]
  },
  {
   "cell_type": "code",
   "execution_count": null,
   "id": "bdff3650",
   "metadata": {},
   "outputs": [],
   "source": []
  },
  {
   "cell_type": "code",
   "execution_count": null,
   "id": "7fcc8bce",
   "metadata": {},
   "outputs": [],
   "source": []
  }
 ],
 "metadata": {
  "kernelspec": {
   "display_name": "Python 3 (ipykernel)",
   "language": "python",
   "name": "python3"
  },
  "language_info": {
   "codemirror_mode": {
    "name": "ipython",
    "version": 3
   },
   "file_extension": ".py",
   "mimetype": "text/x-python",
   "name": "python",
   "nbconvert_exporter": "python",
   "pygments_lexer": "ipython3",
   "version": "3.8.10"
  }
 },
 "nbformat": 4,
 "nbformat_minor": 5
}
